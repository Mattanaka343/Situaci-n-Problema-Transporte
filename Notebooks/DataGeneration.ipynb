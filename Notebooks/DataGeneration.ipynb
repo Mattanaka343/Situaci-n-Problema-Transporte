{
 "cells": [
  {
   "cell_type": "markdown",
   "id": "446e4195",
   "metadata": {},
   "source": [
    "# Generación de Datos\n",
    "por: Mateo Yáñez Tanaka\n",
    "\n",
    "El ojetivo de este notebook es generar la base de datos que se usará para responder los queries de la investigación\n",
    "\n",
    "## Procesamiento de los datos"
   ]
  },
  {
   "cell_type": "code",
   "execution_count": 12,
   "id": "e40cb577",
   "metadata": {},
   "outputs": [],
   "source": [
    "# importando librerías\n",
    "import numpy as np #importamos numpy para manejo de arrays\n",
    "import pandas as pd #importamos pandas para el manejo de dataframes\n",
    "\n",
    "#leyendo la base de datos\n",
    "tvivienda = pd.read_csv('../Data/tvivienda.csv')\n",
    "ttransporte = pd.read_csv('../Data/ttransporte.csv')\n",
    "tviaje = pd.read_csv('../Data/tviaje.csv')\n",
    "tsdem = pd.read_csv('../Data/tsdem.csv')\n",
    "thogar = pd.read_csv('../Data/thogar.csv')"
   ]
  },
  {
   "cell_type": "markdown",
   "id": "b8fed85c",
   "metadata": {},
   "source": [
    "Las queries que nos tocaron fueron las siguientes:\n",
    "- ¿Cuál es la probabilidad de que una mujer joven de estrato social alto use la bicicleta?\n",
    "- ¿Cuál es la probabilidad de que una persona que vive en una localidad de menos de 2,500 habitantes sea de estrato alto?\n",
    "- ¿Cuál es la probabilidad de que alguien de estrato sociodemográfico bajo tenga ya sea una moto, un auto o una bicicleta?\n",
    "- Se busca averiguar si las mujeres de edad media y alta, de estrato social bajo tienden a caminar más entre semana en comparación a los hombres con las mismas características.\n",
    "\n",
    "Tomando en cuenta estas queries, las variables que requeriremos de la bsase de datos serán las siguientes: \n",
    "- ```estrato```: Se encuentra en la mayoría de los archivos de datos pero para este caso lo tomaremos de ```tvivienda``` y se refiere a el estrato social de la persona. Sus categorías son las siguientes:\n",
    "    1. Bajo\n",
    "    2. Medio Bajo\n",
    "    3. Medio Alto\n",
    "    4. Alto \n",
    "- ```sexo```: Se encuentra en el archivo ```ttransporte``` y se refiere al sexo de la persona. Sus categorías son las siguientes:\n",
    "    1. Hombre\n",
    "    2. Mujer\n",
    "- ```p5_14```: Se encuentra en el archivo ```ttransporte``` y se refiere el medio de transporte que utilizó la persona en su viaje. Sus categorías son las siguientes:\n",
    "    1. Automóvil\n",
    "    1. Colectivo/Micro\n",
    "    1. Taxi (App Internet)\n",
    "    1. Taxi (sitio, calle u otro)\n",
    "    1. Metro\n",
    "    1. Autobús RTP o M1\n",
    "    1. Bicicleta\n",
    "    1. Autobús\n",
    "    1. Moto\n",
    "    1. Trolebús\n",
    "    1. Metroús o Mexibús\n",
    "    1. Tren ligero\n",
    "    1. Tren suburbano\n",
    "    1. Caminar en la calle\n",
    "    1. Mexicable\n",
    "    1. Bicitaxi\n",
    "    1. Mototaxi\n",
    "    1. Transporte escolar\n",
    "    1. Transporte de personal\n",
    "    1. Otro\n",
    "- ```edad``` se encuentra en ```ttransporte``` y se refiere a la edad de la persona, cubre el rango de 6 a 99 años de edad.\n",
    "- ```p2_1_1``` se encuentra en ```thogar``` y se refiere a la cantidad de autos que poseé la persona para su transpoorte cotidiano. Toma valores entre 0-8, con 0 siendo cero carros y 8 siendo ocho o más.  \n",
    "- ```p2_1_2``` se encuentra en ```thogar``` y se refiere a la cantidad de motos que poseé la persona para su transporte cotidiano. Toma valores entre 0-8, con 0 siendo cero motos y 8 siendo oocho o más. \n",
    "- ```p2_1_3``` se encuentra en ```thogar``` y se refiere a la cantidad de bicicletas que poseé la persona para su transporte cootidiano. Toma valores entre 0-8, con 0 siendo cero bicicletas y 8 siendo ocho o más.\n",
    "- ```tloc``` se encuentra en ```tvivienda``` y se refiere a la categooría de la localidad basado en su cantidad de población. Las categorías son las siguientes:\n",
    "    1. localidades mayores a 100,000 habitantes\n",
    "    2. localidades de 15,000 a 99,000 habitantes\n",
    "    3. localidades de 2,500 a 14,999 habitantes\n",
    "    4. loclaidades de menos de 2,500 habitantes\n",
    "- ```p5_3``` se encuentra en ```tviaje``` y refiere al tipo de día en el que realizó el viaje. Sus categorías son las siguientes:\n",
    "    1. Entre semana\n",
    "    2. Sábado"
   ]
  },
  {
   "cell_type": "code",
   "execution_count": 13,
   "id": "988c19ce",
   "metadata": {},
   "outputs": [],
   "source": [
    "# Unimos las columnas que nos interesan en una sola base de datoos\n",
    "data = pd.merge(pd.merge(pd.merge(pd.merge(tvivienda[['tloc','estrato','id_viv']], thogar[['id_viv','p2_1_1','p2_1_2','p2_1_3','id_hog']], on='id_viv', how = 'inner'), tsdem[['id_hog','id_soc']], on = 'id_hog',how = 'inner'),tviaje[['p5_3','id_soc','id_via']],on='id_soc',how = 'inner'), ttransporte[['id_via','edad','p5_14','sexo']],on = 'id_via', how = 'inner')\n",
    "data.drop(columns = ['id_hog','id_soc','id_via'],inplace=True)"
   ]
  },
  {
   "cell_type": "markdown",
   "id": "736670ad",
   "metadata": {},
   "source": [
    "Con el DataFrame con nuestras variables ya creado, nos aseguramos de que los datos se encuentren limpios, sin valores vacíos y con todos sus datos tipificados propiamente."
   ]
  },
  {
   "cell_type": "code",
   "execution_count": 14,
   "id": "8e5d55a3",
   "metadata": {},
   "outputs": [
    {
     "name": "stdout",
     "output_type": "stream",
     "text": [
      "<class 'pandas.core.frame.DataFrame'>\n",
      "RangeIndex: 890748 entries, 0 to 890747\n",
      "Data columns (total 10 columns):\n",
      " #   Column   Non-Null Count   Dtype\n",
      "---  ------   --------------   -----\n",
      " 0   tloc     890748 non-null  int64\n",
      " 1   estrato  890748 non-null  int64\n",
      " 2   id_viv   890748 non-null  int64\n",
      " 3   p2_1_1   890748 non-null  int64\n",
      " 4   p2_1_2   890748 non-null  int64\n",
      " 5   p2_1_3   890748 non-null  int64\n",
      " 6   p5_3     890748 non-null  int64\n",
      " 7   edad     890748 non-null  int64\n",
      " 8   p5_14    890748 non-null  int64\n",
      " 9   sexo     890748 non-null  int64\n",
      "dtypes: int64(10)\n",
      "memory usage: 68.0 MB\n"
     ]
    }
   ],
   "source": [
    "#Verificamos que no existan valoores nulos en las columnas\n",
    "for col in data.columns:\n",
    "    n = data[col].isna().mean()\n",
    "    if n > 0:\n",
    "        print(f'La columna {col} tiene en promedio {n} valores nulos')\n",
    "\n",
    "#Verificamos que los datos estén propiamente tipificados\n",
    "data.info()"
   ]
  },
  {
   "cell_type": "markdown",
   "id": "2f99dab6",
   "metadata": {},
   "source": [
    "La tipifícación de datos es correcta, sin embargo, para las queries que necesitamos realizar no nos funciona la forma en la que la edad está tipificada. Necesitamos que sean únicamente categorías del tipo \"adultez mayor\", \"adultez media\" \"adultez joven\", \"adolescencia\" y \"niñez\" para lo cuál usaremos las siguientes categorías\n",
    "1. niñez $6 \\le x \\le 12$\n",
    "2. adolescencia $13 \\le x \\le 17$\n",
    "3. adultez joven $18 \\le x \\le 39$\n",
    "4. adultez media $40 \\le x \\le 59$\n",
    "5. adultez mayor $60 \\le x \\le 99$"
   ]
  },
  {
   "cell_type": "code",
   "execution_count": 20,
   "id": "cb0c60ec",
   "metadata": {},
   "outputs": [],
   "source": [
    "bins = [5,12,17,39,59,99]\n",
    "labels = [ k for k in range(1,len(bins))]\n",
    "\n",
    "data['edad'] = pd.cut(data['edad'],bins = bins, labels=labels, right = True)"
   ]
  },
  {
   "cell_type": "markdown",
   "id": "90f36857",
   "metadata": {},
   "source": [
    "Dado que no se presentaron valores nulos en ninguna de las columnas, y habiendo corregido la tipificación de la edad, guardaremos los datos en un archivo llamado ```datos.csv```"
   ]
  },
  {
   "cell_type": "code",
   "execution_count": 24,
   "id": "a28d9c2e",
   "metadata": {},
   "outputs": [],
   "source": [
    "#convertimos nuestro pandas dataframe a un archivo CSV\n",
    "data.to_csv('../Data/datos.csv') "
   ]
  }
 ],
 "metadata": {
  "kernelspec": {
   "display_name": "mv-tec",
   "language": "python",
   "name": "python3"
  },
  "language_info": {
   "codemirror_mode": {
    "name": "ipython",
    "version": 3
   },
   "file_extension": ".py",
   "mimetype": "text/x-python",
   "name": "python",
   "nbconvert_exporter": "python",
   "pygments_lexer": "ipython3",
   "version": "3.12.8"
  }
 },
 "nbformat": 4,
 "nbformat_minor": 5
}
